{
  "nbformat": 4,
  "nbformat_minor": 0,
  "metadata": {
    "colab": {
      "name": "Ipsita Barari Day3 Assignment in Python for Data Science.ipynb",
      "provenance": [],
      "collapsed_sections": [],
      "authorship_tag": "ABX9TyPr04MBtN0AKZ0nPNKvjuKr",
      "include_colab_link": true
    },
    "kernelspec": {
      "name": "python3",
      "display_name": "Python 3"
    },
    "language_info": {
      "name": "python"
    }
  },
  "cells": [
    {
      "cell_type": "markdown",
      "metadata": {
        "id": "view-in-github",
        "colab_type": "text"
      },
      "source": [
        "<a href=\"https://colab.research.google.com/github/Ipsita45/Ipsita-Barari-Day-3-Python-for-Data-Science-Assignment/blob/main/Ipsita_Barari_Day3_Assignment_in_Python_for_Data_Science.ipynb\" target=\"_parent\"><img src=\"https://colab.research.google.com/assets/colab-badge.svg\" alt=\"Open In Colab\"/></a>"
      ]
    },
    {
      "cell_type": "code",
      "metadata": {
        "id": "LIt6scR4CnkV"
      },
      "source": [
        "import pandas as pd\n",
        "import numpy as np"
      ],
      "execution_count": 1,
      "outputs": []
    },
    {
      "cell_type": "code",
      "metadata": {
        "colab": {
          "base_uri": "https://localhost:8080/",
          "height": 204
        },
        "id": "X3QGbVEKETk0",
        "outputId": "98971bd7-815a-49eb-c1eb-d8d7535e5b17"
      },
      "source": [
        "file='https://download.bls.gov/pub/time.series/cu/cu.item'\n",
        "df=pd.read_csv('https://download.bls.gov/pub/time.series/cu/cu.item', sep='\\t')\n",
        "df.head()\n"
      ],
      "execution_count": 3,
      "outputs": [
        {
          "output_type": "execute_result",
          "data": {
            "text/html": [
              "<div>\n",
              "<style scoped>\n",
              "    .dataframe tbody tr th:only-of-type {\n",
              "        vertical-align: middle;\n",
              "    }\n",
              "\n",
              "    .dataframe tbody tr th {\n",
              "        vertical-align: top;\n",
              "    }\n",
              "\n",
              "    .dataframe thead th {\n",
              "        text-align: right;\n",
              "    }\n",
              "</style>\n",
              "<table border=\"1\" class=\"dataframe\">\n",
              "  <thead>\n",
              "    <tr style=\"text-align: right;\">\n",
              "      <th></th>\n",
              "      <th>item_code</th>\n",
              "      <th>item_name</th>\n",
              "      <th>display_level</th>\n",
              "      <th>selectable</th>\n",
              "      <th>sort_sequence</th>\n",
              "    </tr>\n",
              "  </thead>\n",
              "  <tbody>\n",
              "    <tr>\n",
              "      <th>0</th>\n",
              "      <td>AA0</td>\n",
              "      <td>All items - old base</td>\n",
              "      <td>0</td>\n",
              "      <td>T</td>\n",
              "      <td>2</td>\n",
              "    </tr>\n",
              "    <tr>\n",
              "      <th>1</th>\n",
              "      <td>AA0R</td>\n",
              "      <td>Purchasing power of the consumer dollar - old ...</td>\n",
              "      <td>0</td>\n",
              "      <td>T</td>\n",
              "      <td>399</td>\n",
              "    </tr>\n",
              "    <tr>\n",
              "      <th>2</th>\n",
              "      <td>SA0</td>\n",
              "      <td>All items</td>\n",
              "      <td>0</td>\n",
              "      <td>T</td>\n",
              "      <td>1</td>\n",
              "    </tr>\n",
              "    <tr>\n",
              "      <th>3</th>\n",
              "      <td>SA0E</td>\n",
              "      <td>Energy</td>\n",
              "      <td>1</td>\n",
              "      <td>T</td>\n",
              "      <td>374</td>\n",
              "    </tr>\n",
              "    <tr>\n",
              "      <th>4</th>\n",
              "      <td>SA0L1</td>\n",
              "      <td>All items less food</td>\n",
              "      <td>1</td>\n",
              "      <td>T</td>\n",
              "      <td>358</td>\n",
              "    </tr>\n",
              "  </tbody>\n",
              "</table>\n",
              "</div>"
            ],
            "text/plain": [
              "  item_code  ... sort_sequence\n",
              "0       AA0  ...             2\n",
              "1      AA0R  ...           399\n",
              "2       SA0  ...             1\n",
              "3      SA0E  ...           374\n",
              "4     SA0L1  ...           358\n",
              "\n",
              "[5 rows x 5 columns]"
            ]
          },
          "metadata": {},
          "execution_count": 3
        }
      ]
    },
    {
      "cell_type": "code",
      "metadata": {
        "id": "BCEfeX2CKAES",
        "colab": {
          "base_uri": "https://localhost:8080/"
        },
        "outputId": "0e8be201-1100-42c6-8d56-80e79c6d2872"
      },
      "source": [
        "df['item_name']"
      ],
      "execution_count": 5,
      "outputs": [
        {
          "output_type": "execute_result",
          "data": {
            "text/plain": [
              "0                                   All items - old base\n",
              "1      Purchasing power of the consumer dollar - old ...\n",
              "2                                              All items\n",
              "3                                                 Energy\n",
              "4                                    All items less food\n",
              "                             ...                        \n",
              "394     Tax return preparation and other accounting fees\n",
              "395                                    College textbooks\n",
              "396             Food at elementary and secondary schools\n",
              "397                                   Infants' equipment\n",
              "398                                   Infants' furniture\n",
              "Name: item_name, Length: 399, dtype: object"
            ]
          },
          "metadata": {},
          "execution_count": 5
        }
      ]
    },
    {
      "cell_type": "code",
      "metadata": {
        "id": "CXTASvTBKAET",
        "colab": {
          "base_uri": "https://localhost:8080/",
          "height": 419
        },
        "outputId": "fda6e5c0-b681-49a9-d21e-b81cfc097ad9"
      },
      "source": [
        "df[['display_level', 'selectable']]"
      ],
      "execution_count": 6,
      "outputs": [
        {
          "output_type": "execute_result",
          "data": {
            "text/html": [
              "<div>\n",
              "<style scoped>\n",
              "    .dataframe tbody tr th:only-of-type {\n",
              "        vertical-align: middle;\n",
              "    }\n",
              "\n",
              "    .dataframe tbody tr th {\n",
              "        vertical-align: top;\n",
              "    }\n",
              "\n",
              "    .dataframe thead th {\n",
              "        text-align: right;\n",
              "    }\n",
              "</style>\n",
              "<table border=\"1\" class=\"dataframe\">\n",
              "  <thead>\n",
              "    <tr style=\"text-align: right;\">\n",
              "      <th></th>\n",
              "      <th>display_level</th>\n",
              "      <th>selectable</th>\n",
              "    </tr>\n",
              "  </thead>\n",
              "  <tbody>\n",
              "    <tr>\n",
              "      <th>0</th>\n",
              "      <td>0</td>\n",
              "      <td>T</td>\n",
              "    </tr>\n",
              "    <tr>\n",
              "      <th>1</th>\n",
              "      <td>0</td>\n",
              "      <td>T</td>\n",
              "    </tr>\n",
              "    <tr>\n",
              "      <th>2</th>\n",
              "      <td>0</td>\n",
              "      <td>T</td>\n",
              "    </tr>\n",
              "    <tr>\n",
              "      <th>3</th>\n",
              "      <td>1</td>\n",
              "      <td>T</td>\n",
              "    </tr>\n",
              "    <tr>\n",
              "      <th>4</th>\n",
              "      <td>1</td>\n",
              "      <td>T</td>\n",
              "    </tr>\n",
              "    <tr>\n",
              "      <th>...</th>\n",
              "      <td>...</td>\n",
              "      <td>...</td>\n",
              "    </tr>\n",
              "    <tr>\n",
              "      <th>394</th>\n",
              "      <td>4</td>\n",
              "      <td>T</td>\n",
              "    </tr>\n",
              "    <tr>\n",
              "      <th>395</th>\n",
              "      <td>3</td>\n",
              "      <td>T</td>\n",
              "    </tr>\n",
              "    <tr>\n",
              "      <th>396</th>\n",
              "      <td>3</td>\n",
              "      <td>T</td>\n",
              "    </tr>\n",
              "    <tr>\n",
              "      <th>397</th>\n",
              "      <td>3</td>\n",
              "      <td>T</td>\n",
              "    </tr>\n",
              "    <tr>\n",
              "      <th>398</th>\n",
              "      <td>3</td>\n",
              "      <td>T</td>\n",
              "    </tr>\n",
              "  </tbody>\n",
              "</table>\n",
              "<p>399 rows × 2 columns</p>\n",
              "</div>"
            ],
            "text/plain": [
              "     display_level selectable\n",
              "0                0          T\n",
              "1                0          T\n",
              "2                0          T\n",
              "3                1          T\n",
              "4                1          T\n",
              "..             ...        ...\n",
              "394              4          T\n",
              "395              3          T\n",
              "396              3          T\n",
              "397              3          T\n",
              "398              3          T\n",
              "\n",
              "[399 rows x 2 columns]"
            ]
          },
          "metadata": {},
          "execution_count": 6
        }
      ]
    },
    {
      "cell_type": "code",
      "metadata": {
        "colab": {
          "base_uri": "https://localhost:8080/",
          "height": 419
        },
        "id": "wVtF-cp9FzJd",
        "outputId": "af078eaf-f877-42b7-b963-bb66d4d17540"
      },
      "source": [
        "df.iloc[:,:]"
      ],
      "execution_count": 10,
      "outputs": [
        {
          "output_type": "execute_result",
          "data": {
            "text/html": [
              "<div>\n",
              "<style scoped>\n",
              "    .dataframe tbody tr th:only-of-type {\n",
              "        vertical-align: middle;\n",
              "    }\n",
              "\n",
              "    .dataframe tbody tr th {\n",
              "        vertical-align: top;\n",
              "    }\n",
              "\n",
              "    .dataframe thead th {\n",
              "        text-align: right;\n",
              "    }\n",
              "</style>\n",
              "<table border=\"1\" class=\"dataframe\">\n",
              "  <thead>\n",
              "    <tr style=\"text-align: right;\">\n",
              "      <th></th>\n",
              "      <th>item_code</th>\n",
              "      <th>item_name</th>\n",
              "      <th>display_level</th>\n",
              "      <th>selectable</th>\n",
              "      <th>sort_sequence</th>\n",
              "    </tr>\n",
              "  </thead>\n",
              "  <tbody>\n",
              "    <tr>\n",
              "      <th>0</th>\n",
              "      <td>AA0</td>\n",
              "      <td>All items - old base</td>\n",
              "      <td>0</td>\n",
              "      <td>T</td>\n",
              "      <td>2</td>\n",
              "    </tr>\n",
              "    <tr>\n",
              "      <th>1</th>\n",
              "      <td>AA0R</td>\n",
              "      <td>Purchasing power of the consumer dollar - old ...</td>\n",
              "      <td>0</td>\n",
              "      <td>T</td>\n",
              "      <td>399</td>\n",
              "    </tr>\n",
              "    <tr>\n",
              "      <th>2</th>\n",
              "      <td>SA0</td>\n",
              "      <td>All items</td>\n",
              "      <td>0</td>\n",
              "      <td>T</td>\n",
              "      <td>1</td>\n",
              "    </tr>\n",
              "    <tr>\n",
              "      <th>3</th>\n",
              "      <td>SA0E</td>\n",
              "      <td>Energy</td>\n",
              "      <td>1</td>\n",
              "      <td>T</td>\n",
              "      <td>374</td>\n",
              "    </tr>\n",
              "    <tr>\n",
              "      <th>4</th>\n",
              "      <td>SA0L1</td>\n",
              "      <td>All items less food</td>\n",
              "      <td>1</td>\n",
              "      <td>T</td>\n",
              "      <td>358</td>\n",
              "    </tr>\n",
              "    <tr>\n",
              "      <th>...</th>\n",
              "      <td>...</td>\n",
              "      <td>...</td>\n",
              "      <td>...</td>\n",
              "      <td>...</td>\n",
              "      <td>...</td>\n",
              "    </tr>\n",
              "    <tr>\n",
              "      <th>394</th>\n",
              "      <td>SS68023</td>\n",
              "      <td>Tax return preparation and other accounting fees</td>\n",
              "      <td>4</td>\n",
              "      <td>T</td>\n",
              "      <td>352</td>\n",
              "    </tr>\n",
              "    <tr>\n",
              "      <th>395</th>\n",
              "      <td>SSEA011</td>\n",
              "      <td>College textbooks</td>\n",
              "      <td>3</td>\n",
              "      <td>T</td>\n",
              "      <td>314</td>\n",
              "    </tr>\n",
              "    <tr>\n",
              "      <th>396</th>\n",
              "      <td>SSFV031A</td>\n",
              "      <td>Food at elementary and secondary schools</td>\n",
              "      <td>3</td>\n",
              "      <td>T</td>\n",
              "      <td>122</td>\n",
              "    </tr>\n",
              "    <tr>\n",
              "      <th>397</th>\n",
              "      <td>SSGE013</td>\n",
              "      <td>Infants' equipment</td>\n",
              "      <td>3</td>\n",
              "      <td>T</td>\n",
              "      <td>355</td>\n",
              "    </tr>\n",
              "    <tr>\n",
              "      <th>398</th>\n",
              "      <td>SSHJ031</td>\n",
              "      <td>Infants' furniture</td>\n",
              "      <td>3</td>\n",
              "      <td>T</td>\n",
              "      <td>165</td>\n",
              "    </tr>\n",
              "  </tbody>\n",
              "</table>\n",
              "<p>399 rows × 5 columns</p>\n",
              "</div>"
            ],
            "text/plain": [
              "    item_code  ... sort_sequence\n",
              "0         AA0  ...             2\n",
              "1        AA0R  ...           399\n",
              "2         SA0  ...             1\n",
              "3        SA0E  ...           374\n",
              "4       SA0L1  ...           358\n",
              "..        ...  ...           ...\n",
              "394   SS68023  ...           352\n",
              "395   SSEA011  ...           314\n",
              "396  SSFV031A  ...           122\n",
              "397   SSGE013  ...           355\n",
              "398   SSHJ031  ...           165\n",
              "\n",
              "[399 rows x 5 columns]"
            ]
          },
          "metadata": {},
          "execution_count": 10
        }
      ]
    },
    {
      "cell_type": "code",
      "metadata": {
        "colab": {
          "base_uri": "https://localhost:8080/",
          "height": 419
        },
        "id": "zMpgmaxxGpuj",
        "outputId": "2152e612-9e7c-4379-acdb-16d19d540eae"
      },
      "source": [
        "df.iloc[:,1:]"
      ],
      "execution_count": 11,
      "outputs": [
        {
          "output_type": "execute_result",
          "data": {
            "text/html": [
              "<div>\n",
              "<style scoped>\n",
              "    .dataframe tbody tr th:only-of-type {\n",
              "        vertical-align: middle;\n",
              "    }\n",
              "\n",
              "    .dataframe tbody tr th {\n",
              "        vertical-align: top;\n",
              "    }\n",
              "\n",
              "    .dataframe thead th {\n",
              "        text-align: right;\n",
              "    }\n",
              "</style>\n",
              "<table border=\"1\" class=\"dataframe\">\n",
              "  <thead>\n",
              "    <tr style=\"text-align: right;\">\n",
              "      <th></th>\n",
              "      <th>item_name</th>\n",
              "      <th>display_level</th>\n",
              "      <th>selectable</th>\n",
              "      <th>sort_sequence</th>\n",
              "    </tr>\n",
              "  </thead>\n",
              "  <tbody>\n",
              "    <tr>\n",
              "      <th>0</th>\n",
              "      <td>All items - old base</td>\n",
              "      <td>0</td>\n",
              "      <td>T</td>\n",
              "      <td>2</td>\n",
              "    </tr>\n",
              "    <tr>\n",
              "      <th>1</th>\n",
              "      <td>Purchasing power of the consumer dollar - old ...</td>\n",
              "      <td>0</td>\n",
              "      <td>T</td>\n",
              "      <td>399</td>\n",
              "    </tr>\n",
              "    <tr>\n",
              "      <th>2</th>\n",
              "      <td>All items</td>\n",
              "      <td>0</td>\n",
              "      <td>T</td>\n",
              "      <td>1</td>\n",
              "    </tr>\n",
              "    <tr>\n",
              "      <th>3</th>\n",
              "      <td>Energy</td>\n",
              "      <td>1</td>\n",
              "      <td>T</td>\n",
              "      <td>374</td>\n",
              "    </tr>\n",
              "    <tr>\n",
              "      <th>4</th>\n",
              "      <td>All items less food</td>\n",
              "      <td>1</td>\n",
              "      <td>T</td>\n",
              "      <td>358</td>\n",
              "    </tr>\n",
              "    <tr>\n",
              "      <th>...</th>\n",
              "      <td>...</td>\n",
              "      <td>...</td>\n",
              "      <td>...</td>\n",
              "      <td>...</td>\n",
              "    </tr>\n",
              "    <tr>\n",
              "      <th>394</th>\n",
              "      <td>Tax return preparation and other accounting fees</td>\n",
              "      <td>4</td>\n",
              "      <td>T</td>\n",
              "      <td>352</td>\n",
              "    </tr>\n",
              "    <tr>\n",
              "      <th>395</th>\n",
              "      <td>College textbooks</td>\n",
              "      <td>3</td>\n",
              "      <td>T</td>\n",
              "      <td>314</td>\n",
              "    </tr>\n",
              "    <tr>\n",
              "      <th>396</th>\n",
              "      <td>Food at elementary and secondary schools</td>\n",
              "      <td>3</td>\n",
              "      <td>T</td>\n",
              "      <td>122</td>\n",
              "    </tr>\n",
              "    <tr>\n",
              "      <th>397</th>\n",
              "      <td>Infants' equipment</td>\n",
              "      <td>3</td>\n",
              "      <td>T</td>\n",
              "      <td>355</td>\n",
              "    </tr>\n",
              "    <tr>\n",
              "      <th>398</th>\n",
              "      <td>Infants' furniture</td>\n",
              "      <td>3</td>\n",
              "      <td>T</td>\n",
              "      <td>165</td>\n",
              "    </tr>\n",
              "  </tbody>\n",
              "</table>\n",
              "<p>399 rows × 4 columns</p>\n",
              "</div>"
            ],
            "text/plain": [
              "                                             item_name  ...  sort_sequence\n",
              "0                                 All items - old base  ...              2\n",
              "1    Purchasing power of the consumer dollar - old ...  ...            399\n",
              "2                                            All items  ...              1\n",
              "3                                               Energy  ...            374\n",
              "4                                  All items less food  ...            358\n",
              "..                                                 ...  ...            ...\n",
              "394   Tax return preparation and other accounting fees  ...            352\n",
              "395                                  College textbooks  ...            314\n",
              "396           Food at elementary and secondary schools  ...            122\n",
              "397                                 Infants' equipment  ...            355\n",
              "398                                 Infants' furniture  ...            165\n",
              "\n",
              "[399 rows x 4 columns]"
            ]
          },
          "metadata": {},
          "execution_count": 11
        }
      ]
    },
    {
      "cell_type": "code",
      "metadata": {
        "colab": {
          "base_uri": "https://localhost:8080/"
        },
        "id": "WuNV9Gb0Gt5j",
        "outputId": "0cf5bc44-8ecc-4375-81c1-40085ce335aa"
      },
      "source": [
        "df.iloc[:,1:].values"
      ],
      "execution_count": 12,
      "outputs": [
        {
          "output_type": "execute_result",
          "data": {
            "text/plain": [
              "array([['All items - old base', 0, 'T', 2],\n",
              "       ['Purchasing power of the consumer dollar - old base', 0, 'T',\n",
              "        399],\n",
              "       ['All items', 0, 'T', 1],\n",
              "       ...,\n",
              "       ['Food at elementary and secondary schools', 3, 'T', 122],\n",
              "       [\"Infants' equipment\", 3, 'T', 355],\n",
              "       [\"Infants' furniture\", 3, 'T', 165]], dtype=object)"
            ]
          },
          "metadata": {},
          "execution_count": 12
        }
      ]
    },
    {
      "cell_type": "code",
      "metadata": {
        "colab": {
          "base_uri": "https://localhost:8080/"
        },
        "id": "YKL1bK7TG2hi",
        "outputId": "f5068444-a6b1-4e38-8bdc-d434d94564d1"
      },
      "source": [
        "df.isnull().sum()"
      ],
      "execution_count": 13,
      "outputs": [
        {
          "output_type": "execute_result",
          "data": {
            "text/plain": [
              "item_code        0\n",
              "item_name        0\n",
              "display_level    0\n",
              "selectable       0\n",
              "sort_sequence    0\n",
              "dtype: int64"
            ]
          },
          "metadata": {},
          "execution_count": 13
        }
      ]
    },
    {
      "cell_type": "code",
      "metadata": {
        "colab": {
          "base_uri": "https://localhost:8080/"
        },
        "id": "r_buF7LeG8GK",
        "outputId": "ac8ad982-c37f-4da4-bfea-4dc90cae7cc3"
      },
      "source": [
        "df['item_name'].value_counts()"
      ],
      "execution_count": 15,
      "outputs": [
        {
          "output_type": "execute_result",
          "data": {
            "text/plain": [
              "Recreation services                                                                                  1\n",
              "Recreational reading materials                                                                       1\n",
              "Dried beans, peas, and lentils                                                                       1\n",
              "Club membership for shopping clubs, fraternal, or other organizations, or participant sports fees    1\n",
              "Audio equipment                                                                                      1\n",
              "                                                                                                    ..\n",
              "Fats and oils                                                                                        1\n",
              "Cigarettes                                                                                           1\n",
              "Education                                                                                            1\n",
              "Energy commodities                                                                                   1\n",
              "Boys' and girls' footwear                                                                            1\n",
              "Name: item_name, Length: 399, dtype: int64"
            ]
          },
          "metadata": {},
          "execution_count": 15
        }
      ]
    },
    {
      "cell_type": "code",
      "metadata": {
        "colab": {
          "base_uri": "https://localhost:8080/"
        },
        "id": "85Du6UkxHPIR",
        "outputId": "9ff1a4eb-cf0f-4e2e-efef-2fa0884e7d2b"
      },
      "source": [
        "df.info()"
      ],
      "execution_count": 17,
      "outputs": [
        {
          "output_type": "stream",
          "name": "stdout",
          "text": [
            "<class 'pandas.core.frame.DataFrame'>\n",
            "RangeIndex: 399 entries, 0 to 398\n",
            "Data columns (total 5 columns):\n",
            " #   Column         Non-Null Count  Dtype \n",
            "---  ------         --------------  ----- \n",
            " 0   item_code      399 non-null    object\n",
            " 1   item_name      399 non-null    object\n",
            " 2   display_level  399 non-null    int64 \n",
            " 3   selectable     399 non-null    object\n",
            " 4   sort_sequence  399 non-null    int64 \n",
            "dtypes: int64(2), object(3)\n",
            "memory usage: 15.7+ KB\n"
          ]
        }
      ]
    },
    {
      "cell_type": "code",
      "metadata": {
        "colab": {
          "base_uri": "https://localhost:8080/",
          "height": 297
        },
        "id": "5GavFuzUHbFZ",
        "outputId": "e26a1e8f-cfdc-4b1c-e17a-9f6b9d56bf82"
      },
      "source": [
        "df.describe()"
      ],
      "execution_count": 18,
      "outputs": [
        {
          "output_type": "execute_result",
          "data": {
            "text/html": [
              "<div>\n",
              "<style scoped>\n",
              "    .dataframe tbody tr th:only-of-type {\n",
              "        vertical-align: middle;\n",
              "    }\n",
              "\n",
              "    .dataframe tbody tr th {\n",
              "        vertical-align: top;\n",
              "    }\n",
              "\n",
              "    .dataframe thead th {\n",
              "        text-align: right;\n",
              "    }\n",
              "</style>\n",
              "<table border=\"1\" class=\"dataframe\">\n",
              "  <thead>\n",
              "    <tr style=\"text-align: right;\">\n",
              "      <th></th>\n",
              "      <th>display_level</th>\n",
              "      <th>sort_sequence</th>\n",
              "    </tr>\n",
              "  </thead>\n",
              "  <tbody>\n",
              "    <tr>\n",
              "      <th>count</th>\n",
              "      <td>399.000000</td>\n",
              "      <td>399.000000</td>\n",
              "    </tr>\n",
              "    <tr>\n",
              "      <th>mean</th>\n",
              "      <td>3.192982</td>\n",
              "      <td>200.000000</td>\n",
              "    </tr>\n",
              "    <tr>\n",
              "      <th>std</th>\n",
              "      <td>1.817102</td>\n",
              "      <td>115.325626</td>\n",
              "    </tr>\n",
              "    <tr>\n",
              "      <th>min</th>\n",
              "      <td>0.000000</td>\n",
              "      <td>1.000000</td>\n",
              "    </tr>\n",
              "    <tr>\n",
              "      <th>25%</th>\n",
              "      <td>2.000000</td>\n",
              "      <td>100.500000</td>\n",
              "    </tr>\n",
              "    <tr>\n",
              "      <th>50%</th>\n",
              "      <td>3.000000</td>\n",
              "      <td>200.000000</td>\n",
              "    </tr>\n",
              "    <tr>\n",
              "      <th>75%</th>\n",
              "      <td>4.000000</td>\n",
              "      <td>299.500000</td>\n",
              "    </tr>\n",
              "    <tr>\n",
              "      <th>max</th>\n",
              "      <td>8.000000</td>\n",
              "      <td>399.000000</td>\n",
              "    </tr>\n",
              "  </tbody>\n",
              "</table>\n",
              "</div>"
            ],
            "text/plain": [
              "       display_level  sort_sequence\n",
              "count     399.000000     399.000000\n",
              "mean        3.192982     200.000000\n",
              "std         1.817102     115.325626\n",
              "min         0.000000       1.000000\n",
              "25%         2.000000     100.500000\n",
              "50%         3.000000     200.000000\n",
              "75%         4.000000     299.500000\n",
              "max         8.000000     399.000000"
            ]
          },
          "metadata": {},
          "execution_count": 18
        }
      ]
    },
    {
      "cell_type": "code",
      "metadata": {
        "colab": {
          "base_uri": "https://localhost:8080/",
          "height": 419
        },
        "id": "snzGkWeBHf_B",
        "outputId": "54b6c0db-d5d7-41cd-b807-175e00890e8d"
      },
      "source": [
        "df[df['sort_sequence']>200]"
      ],
      "execution_count": 23,
      "outputs": [
        {
          "output_type": "execute_result",
          "data": {
            "text/html": [
              "<div>\n",
              "<style scoped>\n",
              "    .dataframe tbody tr th:only-of-type {\n",
              "        vertical-align: middle;\n",
              "    }\n",
              "\n",
              "    .dataframe tbody tr th {\n",
              "        vertical-align: top;\n",
              "    }\n",
              "\n",
              "    .dataframe thead th {\n",
              "        text-align: right;\n",
              "    }\n",
              "</style>\n",
              "<table border=\"1\" class=\"dataframe\">\n",
              "  <thead>\n",
              "    <tr style=\"text-align: right;\">\n",
              "      <th></th>\n",
              "      <th>item_code</th>\n",
              "      <th>item_name</th>\n",
              "      <th>display_level</th>\n",
              "      <th>selectable</th>\n",
              "      <th>sort_sequence</th>\n",
              "    </tr>\n",
              "  </thead>\n",
              "  <tbody>\n",
              "    <tr>\n",
              "      <th>1</th>\n",
              "      <td>AA0R</td>\n",
              "      <td>Purchasing power of the consumer dollar - old ...</td>\n",
              "      <td>0</td>\n",
              "      <td>T</td>\n",
              "      <td>399</td>\n",
              "    </tr>\n",
              "    <tr>\n",
              "      <th>3</th>\n",
              "      <td>SA0E</td>\n",
              "      <td>Energy</td>\n",
              "      <td>1</td>\n",
              "      <td>T</td>\n",
              "      <td>374</td>\n",
              "    </tr>\n",
              "    <tr>\n",
              "      <th>4</th>\n",
              "      <td>SA0L1</td>\n",
              "      <td>All items less food</td>\n",
              "      <td>1</td>\n",
              "      <td>T</td>\n",
              "      <td>358</td>\n",
              "    </tr>\n",
              "    <tr>\n",
              "      <th>5</th>\n",
              "      <td>SA0L12</td>\n",
              "      <td>All items less food and shelter</td>\n",
              "      <td>1</td>\n",
              "      <td>T</td>\n",
              "      <td>361</td>\n",
              "    </tr>\n",
              "    <tr>\n",
              "      <th>6</th>\n",
              "      <td>SA0L12E</td>\n",
              "      <td>All items less food, shelter, and energy</td>\n",
              "      <td>1</td>\n",
              "      <td>T</td>\n",
              "      <td>362</td>\n",
              "    </tr>\n",
              "    <tr>\n",
              "      <th>...</th>\n",
              "      <td>...</td>\n",
              "      <td>...</td>\n",
              "      <td>...</td>\n",
              "      <td>...</td>\n",
              "      <td>...</td>\n",
              "    </tr>\n",
              "    <tr>\n",
              "      <th>392</th>\n",
              "      <td>SS62055</td>\n",
              "      <td>Rental of video discs and other media</td>\n",
              "      <td>3</td>\n",
              "      <td>T</td>\n",
              "      <td>276</td>\n",
              "    </tr>\n",
              "    <tr>\n",
              "      <th>393</th>\n",
              "      <td>SS68021</td>\n",
              "      <td>Checking account and other bank services</td>\n",
              "      <td>4</td>\n",
              "      <td>T</td>\n",
              "      <td>351</td>\n",
              "    </tr>\n",
              "    <tr>\n",
              "      <th>394</th>\n",
              "      <td>SS68023</td>\n",
              "      <td>Tax return preparation and other accounting fees</td>\n",
              "      <td>4</td>\n",
              "      <td>T</td>\n",
              "      <td>352</td>\n",
              "    </tr>\n",
              "    <tr>\n",
              "      <th>395</th>\n",
              "      <td>SSEA011</td>\n",
              "      <td>College textbooks</td>\n",
              "      <td>3</td>\n",
              "      <td>T</td>\n",
              "      <td>314</td>\n",
              "    </tr>\n",
              "    <tr>\n",
              "      <th>397</th>\n",
              "      <td>SSGE013</td>\n",
              "      <td>Infants' equipment</td>\n",
              "      <td>3</td>\n",
              "      <td>T</td>\n",
              "      <td>355</td>\n",
              "    </tr>\n",
              "  </tbody>\n",
              "</table>\n",
              "<p>199 rows × 5 columns</p>\n",
              "</div>"
            ],
            "text/plain": [
              "    item_code  ... sort_sequence\n",
              "1        AA0R  ...           399\n",
              "3        SA0E  ...           374\n",
              "4       SA0L1  ...           358\n",
              "5      SA0L12  ...           361\n",
              "6     SA0L12E  ...           362\n",
              "..        ...  ...           ...\n",
              "392   SS62055  ...           276\n",
              "393   SS68021  ...           351\n",
              "394   SS68023  ...           352\n",
              "395   SSEA011  ...           314\n",
              "397   SSGE013  ...           355\n",
              "\n",
              "[199 rows x 5 columns]"
            ]
          },
          "metadata": {},
          "execution_count": 23
        }
      ]
    },
    {
      "cell_type": "code",
      "metadata": {
        "colab": {
          "base_uri": "https://localhost:8080/",
          "height": 111
        },
        "id": "5rLM-L6AIAIw",
        "outputId": "44dfc0b8-bb2a-4f6e-a2fe-128abd433300"
      },
      "source": [
        "df.corr()"
      ],
      "execution_count": 21,
      "outputs": [
        {
          "output_type": "execute_result",
          "data": {
            "text/html": [
              "<div>\n",
              "<style scoped>\n",
              "    .dataframe tbody tr th:only-of-type {\n",
              "        vertical-align: middle;\n",
              "    }\n",
              "\n",
              "    .dataframe tbody tr th {\n",
              "        vertical-align: top;\n",
              "    }\n",
              "\n",
              "    .dataframe thead th {\n",
              "        text-align: right;\n",
              "    }\n",
              "</style>\n",
              "<table border=\"1\" class=\"dataframe\">\n",
              "  <thead>\n",
              "    <tr style=\"text-align: right;\">\n",
              "      <th></th>\n",
              "      <th>display_level</th>\n",
              "      <th>sort_sequence</th>\n",
              "    </tr>\n",
              "  </thead>\n",
              "  <tbody>\n",
              "    <tr>\n",
              "      <th>display_level</th>\n",
              "      <td>1.00000</td>\n",
              "      <td>-0.70548</td>\n",
              "    </tr>\n",
              "    <tr>\n",
              "      <th>sort_sequence</th>\n",
              "      <td>-0.70548</td>\n",
              "      <td>1.00000</td>\n",
              "    </tr>\n",
              "  </tbody>\n",
              "</table>\n",
              "</div>"
            ],
            "text/plain": [
              "               display_level  sort_sequence\n",
              "display_level        1.00000       -0.70548\n",
              "sort_sequence       -0.70548        1.00000"
            ]
          },
          "metadata": {},
          "execution_count": 21
        }
      ]
    },
    {
      "cell_type": "code",
      "metadata": {
        "colab": {
          "base_uri": "https://localhost:8080/"
        },
        "id": "ZxXFnlH1IMYv",
        "outputId": "685ee3f8-ae50-4f40-d084-c40170e53c9f"
      },
      "source": [
        "df['display_level'].value_counts()"
      ],
      "execution_count": 22,
      "outputs": [
        {
          "output_type": "execute_result",
          "data": {
            "text/plain": [
              "3    113\n",
              "2     70\n",
              "1     66\n",
              "4     43\n",
              "6     37\n",
              "5     37\n",
              "7     18\n",
              "0     12\n",
              "8      3\n",
              "Name: display_level, dtype: int64"
            ]
          },
          "metadata": {},
          "execution_count": 22
        }
      ]
    },
    {
      "cell_type": "code",
      "metadata": {
        "colab": {
          "base_uri": "https://localhost:8080/",
          "height": 419
        },
        "id": "2_kzDHbKLXQT",
        "outputId": "4fc813d3-56fa-43f9-b385-34b85fd01473"
      },
      "source": [
        "df.dropna(axis=1)"
      ],
      "execution_count": 25,
      "outputs": [
        {
          "output_type": "execute_result",
          "data": {
            "text/html": [
              "<div>\n",
              "<style scoped>\n",
              "    .dataframe tbody tr th:only-of-type {\n",
              "        vertical-align: middle;\n",
              "    }\n",
              "\n",
              "    .dataframe tbody tr th {\n",
              "        vertical-align: top;\n",
              "    }\n",
              "\n",
              "    .dataframe thead th {\n",
              "        text-align: right;\n",
              "    }\n",
              "</style>\n",
              "<table border=\"1\" class=\"dataframe\">\n",
              "  <thead>\n",
              "    <tr style=\"text-align: right;\">\n",
              "      <th></th>\n",
              "      <th>item_code</th>\n",
              "      <th>item_name</th>\n",
              "      <th>display_level</th>\n",
              "      <th>selectable</th>\n",
              "      <th>sort_sequence</th>\n",
              "    </tr>\n",
              "  </thead>\n",
              "  <tbody>\n",
              "    <tr>\n",
              "      <th>0</th>\n",
              "      <td>AA0</td>\n",
              "      <td>All items - old base</td>\n",
              "      <td>0</td>\n",
              "      <td>T</td>\n",
              "      <td>2</td>\n",
              "    </tr>\n",
              "    <tr>\n",
              "      <th>1</th>\n",
              "      <td>AA0R</td>\n",
              "      <td>Purchasing power of the consumer dollar - old ...</td>\n",
              "      <td>0</td>\n",
              "      <td>T</td>\n",
              "      <td>399</td>\n",
              "    </tr>\n",
              "    <tr>\n",
              "      <th>2</th>\n",
              "      <td>SA0</td>\n",
              "      <td>All items</td>\n",
              "      <td>0</td>\n",
              "      <td>T</td>\n",
              "      <td>1</td>\n",
              "    </tr>\n",
              "    <tr>\n",
              "      <th>3</th>\n",
              "      <td>SA0E</td>\n",
              "      <td>Energy</td>\n",
              "      <td>1</td>\n",
              "      <td>T</td>\n",
              "      <td>374</td>\n",
              "    </tr>\n",
              "    <tr>\n",
              "      <th>4</th>\n",
              "      <td>SA0L1</td>\n",
              "      <td>All items less food</td>\n",
              "      <td>1</td>\n",
              "      <td>T</td>\n",
              "      <td>358</td>\n",
              "    </tr>\n",
              "    <tr>\n",
              "      <th>...</th>\n",
              "      <td>...</td>\n",
              "      <td>...</td>\n",
              "      <td>...</td>\n",
              "      <td>...</td>\n",
              "      <td>...</td>\n",
              "    </tr>\n",
              "    <tr>\n",
              "      <th>394</th>\n",
              "      <td>SS68023</td>\n",
              "      <td>Tax return preparation and other accounting fees</td>\n",
              "      <td>4</td>\n",
              "      <td>T</td>\n",
              "      <td>352</td>\n",
              "    </tr>\n",
              "    <tr>\n",
              "      <th>395</th>\n",
              "      <td>SSEA011</td>\n",
              "      <td>College textbooks</td>\n",
              "      <td>3</td>\n",
              "      <td>T</td>\n",
              "      <td>314</td>\n",
              "    </tr>\n",
              "    <tr>\n",
              "      <th>396</th>\n",
              "      <td>SSFV031A</td>\n",
              "      <td>Food at elementary and secondary schools</td>\n",
              "      <td>3</td>\n",
              "      <td>T</td>\n",
              "      <td>122</td>\n",
              "    </tr>\n",
              "    <tr>\n",
              "      <th>397</th>\n",
              "      <td>SSGE013</td>\n",
              "      <td>Infants' equipment</td>\n",
              "      <td>3</td>\n",
              "      <td>T</td>\n",
              "      <td>355</td>\n",
              "    </tr>\n",
              "    <tr>\n",
              "      <th>398</th>\n",
              "      <td>SSHJ031</td>\n",
              "      <td>Infants' furniture</td>\n",
              "      <td>3</td>\n",
              "      <td>T</td>\n",
              "      <td>165</td>\n",
              "    </tr>\n",
              "  </tbody>\n",
              "</table>\n",
              "<p>399 rows × 5 columns</p>\n",
              "</div>"
            ],
            "text/plain": [
              "    item_code  ... sort_sequence\n",
              "0         AA0  ...             2\n",
              "1        AA0R  ...           399\n",
              "2         SA0  ...             1\n",
              "3        SA0E  ...           374\n",
              "4       SA0L1  ...           358\n",
              "..        ...  ...           ...\n",
              "394   SS68023  ...           352\n",
              "395   SSEA011  ...           314\n",
              "396  SSFV031A  ...           122\n",
              "397   SSGE013  ...           355\n",
              "398   SSHJ031  ...           165\n",
              "\n",
              "[399 rows x 5 columns]"
            ]
          },
          "metadata": {},
          "execution_count": 25
        }
      ]
    },
    {
      "cell_type": "code",
      "metadata": {
        "colab": {
          "base_uri": "https://localhost:8080/"
        },
        "id": "-IVt_QQdL4UN",
        "outputId": "b5afb25d-600f-456c-fb69-407b17a26293"
      },
      "source": [
        "pd.isna(df['selectable'])"
      ],
      "execution_count": 27,
      "outputs": [
        {
          "output_type": "execute_result",
          "data": {
            "text/plain": [
              "0      False\n",
              "1      False\n",
              "2      False\n",
              "3      False\n",
              "4      False\n",
              "       ...  \n",
              "394    False\n",
              "395    False\n",
              "396    False\n",
              "397    False\n",
              "398    False\n",
              "Name: selectable, Length: 399, dtype: bool"
            ]
          },
          "metadata": {},
          "execution_count": 27
        }
      ]
    },
    {
      "cell_type": "code",
      "metadata": {
        "colab": {
          "base_uri": "https://localhost:8080/"
        },
        "id": "EhtbfIPkMOU_",
        "outputId": "f266bb89-2f7f-4de5-a2bc-04cfafba66fd"
      },
      "source": [
        "df['item_code'].notna()"
      ],
      "execution_count": 28,
      "outputs": [
        {
          "output_type": "execute_result",
          "data": {
            "text/plain": [
              "0      True\n",
              "1      True\n",
              "2      True\n",
              "3      True\n",
              "4      True\n",
              "       ... \n",
              "394    True\n",
              "395    True\n",
              "396    True\n",
              "397    True\n",
              "398    True\n",
              "Name: item_code, Length: 399, dtype: bool"
            ]
          },
          "metadata": {},
          "execution_count": 28
        }
      ]
    },
    {
      "cell_type": "code",
      "metadata": {
        "colab": {
          "base_uri": "https://localhost:8080/",
          "height": 419
        },
        "id": "3IaybbWUMbO4",
        "outputId": "bf65ba02-e22f-46a3-a12a-a94162c01cd2"
      },
      "source": [
        "df.fillna('Missing')"
      ],
      "execution_count": 29,
      "outputs": [
        {
          "output_type": "execute_result",
          "data": {
            "text/html": [
              "<div>\n",
              "<style scoped>\n",
              "    .dataframe tbody tr th:only-of-type {\n",
              "        vertical-align: middle;\n",
              "    }\n",
              "\n",
              "    .dataframe tbody tr th {\n",
              "        vertical-align: top;\n",
              "    }\n",
              "\n",
              "    .dataframe thead th {\n",
              "        text-align: right;\n",
              "    }\n",
              "</style>\n",
              "<table border=\"1\" class=\"dataframe\">\n",
              "  <thead>\n",
              "    <tr style=\"text-align: right;\">\n",
              "      <th></th>\n",
              "      <th>item_code</th>\n",
              "      <th>item_name</th>\n",
              "      <th>display_level</th>\n",
              "      <th>selectable</th>\n",
              "      <th>sort_sequence</th>\n",
              "    </tr>\n",
              "  </thead>\n",
              "  <tbody>\n",
              "    <tr>\n",
              "      <th>0</th>\n",
              "      <td>AA0</td>\n",
              "      <td>All items - old base</td>\n",
              "      <td>0</td>\n",
              "      <td>T</td>\n",
              "      <td>2</td>\n",
              "    </tr>\n",
              "    <tr>\n",
              "      <th>1</th>\n",
              "      <td>AA0R</td>\n",
              "      <td>Purchasing power of the consumer dollar - old ...</td>\n",
              "      <td>0</td>\n",
              "      <td>T</td>\n",
              "      <td>399</td>\n",
              "    </tr>\n",
              "    <tr>\n",
              "      <th>2</th>\n",
              "      <td>SA0</td>\n",
              "      <td>All items</td>\n",
              "      <td>0</td>\n",
              "      <td>T</td>\n",
              "      <td>1</td>\n",
              "    </tr>\n",
              "    <tr>\n",
              "      <th>3</th>\n",
              "      <td>SA0E</td>\n",
              "      <td>Energy</td>\n",
              "      <td>1</td>\n",
              "      <td>T</td>\n",
              "      <td>374</td>\n",
              "    </tr>\n",
              "    <tr>\n",
              "      <th>4</th>\n",
              "      <td>SA0L1</td>\n",
              "      <td>All items less food</td>\n",
              "      <td>1</td>\n",
              "      <td>T</td>\n",
              "      <td>358</td>\n",
              "    </tr>\n",
              "    <tr>\n",
              "      <th>...</th>\n",
              "      <td>...</td>\n",
              "      <td>...</td>\n",
              "      <td>...</td>\n",
              "      <td>...</td>\n",
              "      <td>...</td>\n",
              "    </tr>\n",
              "    <tr>\n",
              "      <th>394</th>\n",
              "      <td>SS68023</td>\n",
              "      <td>Tax return preparation and other accounting fees</td>\n",
              "      <td>4</td>\n",
              "      <td>T</td>\n",
              "      <td>352</td>\n",
              "    </tr>\n",
              "    <tr>\n",
              "      <th>395</th>\n",
              "      <td>SSEA011</td>\n",
              "      <td>College textbooks</td>\n",
              "      <td>3</td>\n",
              "      <td>T</td>\n",
              "      <td>314</td>\n",
              "    </tr>\n",
              "    <tr>\n",
              "      <th>396</th>\n",
              "      <td>SSFV031A</td>\n",
              "      <td>Food at elementary and secondary schools</td>\n",
              "      <td>3</td>\n",
              "      <td>T</td>\n",
              "      <td>122</td>\n",
              "    </tr>\n",
              "    <tr>\n",
              "      <th>397</th>\n",
              "      <td>SSGE013</td>\n",
              "      <td>Infants' equipment</td>\n",
              "      <td>3</td>\n",
              "      <td>T</td>\n",
              "      <td>355</td>\n",
              "    </tr>\n",
              "    <tr>\n",
              "      <th>398</th>\n",
              "      <td>SSHJ031</td>\n",
              "      <td>Infants' furniture</td>\n",
              "      <td>3</td>\n",
              "      <td>T</td>\n",
              "      <td>165</td>\n",
              "    </tr>\n",
              "  </tbody>\n",
              "</table>\n",
              "<p>399 rows × 5 columns</p>\n",
              "</div>"
            ],
            "text/plain": [
              "    item_code  ... sort_sequence\n",
              "0         AA0  ...             2\n",
              "1        AA0R  ...           399\n",
              "2         SA0  ...             1\n",
              "3        SA0E  ...           374\n",
              "4       SA0L1  ...           358\n",
              "..        ...  ...           ...\n",
              "394   SS68023  ...           352\n",
              "395   SSEA011  ...           314\n",
              "396  SSFV031A  ...           122\n",
              "397   SSGE013  ...           355\n",
              "398   SSHJ031  ...           165\n",
              "\n",
              "[399 rows x 5 columns]"
            ]
          },
          "metadata": {},
          "execution_count": 29
        }
      ]
    }
  ]
}